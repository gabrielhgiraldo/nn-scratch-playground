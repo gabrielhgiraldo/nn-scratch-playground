{
 "cells": [
  {
   "cell_type": "markdown",
   "metadata": {},
   "source": [
    "# ARTIFICIAL NEURAL NETWORKS(ANN)  \n",
    "### DATE: 1/23/2020"
   ]
  },
  {
   "cell_type": "code",
   "execution_count": 1,
   "metadata": {},
   "outputs": [],
   "source": [
    "import numpy as np\n",
    "import matplotlib.pyplot as plt"
   ]
  },
  {
   "cell_type": "markdown",
   "metadata": {},
   "source": [
    "## Single Neuron"
   ]
  },
  {
   "cell_type": "markdown",
   "metadata": {},
   "source": [
    "### Relu Activation"
   ]
  },
  {
   "cell_type": "code",
   "execution_count": 2,
   "metadata": {},
   "outputs": [],
   "source": [
    "#relu for a single number\n",
    "# def relu(X):\n",
    "#     return X if X > 0 else 0"
   ]
  },
  {
   "cell_type": "code",
   "execution_count": 3,
   "metadata": {},
   "outputs": [],
   "source": [
    "X = np.linspace(-10,10)"
   ]
  },
  {
   "cell_type": "code",
   "execution_count": 4,
   "metadata": {},
   "outputs": [
    {
     "data": {
      "text/plain": [
       "array([False, False, False, False, False, False, False, False, False,\n",
       "       False, False, False, False, False, False, False, False, False,\n",
       "       False, False, False, False, False, False, False,  True,  True,\n",
       "        True,  True,  True,  True,  True,  True,  True,  True,  True,\n",
       "        True,  True,  True,  True,  True,  True,  True,  True,  True,\n",
       "        True,  True,  True,  True,  True])"
      ]
     },
     "execution_count": 4,
     "metadata": {},
     "output_type": "execute_result"
    }
   ],
   "source": [
    "X > 0"
   ]
  },
  {
   "cell_type": "code",
   "execution_count": 5,
   "metadata": {},
   "outputs": [
    {
     "data": {
      "text/plain": [
       "7"
      ]
     },
     "execution_count": 5,
     "metadata": {},
     "output_type": "execute_result"
    }
   ],
   "source": [
    "True * 7#python automatically treats booleans as 1 if multiplied by a numeric type"
   ]
  },
  {
   "cell_type": "markdown",
   "metadata": {},
   "source": [
    "### timing relu implementations"
   ]
  },
  {
   "cell_type": "code",
   "execution_count": 6,
   "metadata": {},
   "outputs": [],
   "source": [
    "# %%timeit\n",
    "# np.max(X,0)"
   ]
  },
  {
   "cell_type": "code",
   "execution_count": 7,
   "metadata": {},
   "outputs": [],
   "source": [
    "# %%timeit\n",
    "# X * X>0"
   ]
  },
  {
   "cell_type": "code",
   "execution_count": 8,
   "metadata": {},
   "outputs": [],
   "source": [
    "# %%timeit\n",
    "# np.multiply(X, X>0)"
   ]
  },
  {
   "cell_type": "markdown",
   "metadata": {},
   "source": [
    "X * (X>0) is the fastest implementation"
   ]
  },
  {
   "cell_type": "code",
   "execution_count": 9,
   "metadata": {},
   "outputs": [],
   "source": [
    "def relu(X):\n",
    "    return X*(X > 0) #element-wise matrix multiplication by boolean value of whether each element in X is > 0 "
   ]
  },
  {
   "cell_type": "code",
   "execution_count": 10,
   "metadata": {},
   "outputs": [
    {
     "data": {
      "text/plain": [
       "[<matplotlib.lines.Line2D at 0x11297e810>]"
      ]
     },
     "execution_count": 10,
     "metadata": {},
     "output_type": "execute_result"
    },
    {
     "data": {
      "image/png": "[encoded data removed]",
      "text/plain": [
       "<Figure size 432x288 with 1 Axes>"
      ]
     },
     "metadata": {
      "needs_background": "light"
     },
     "output_type": "display_data"
    }
   ],
   "source": [
    "plt.plot(X, relu(X))"
   ]
  },
  {
   "cell_type": "markdown",
   "metadata": {},
   "source": [
    "### derivative of relu"
   ]
  },
  {
   "cell_type": "code",
   "execution_count": 11,
   "metadata": {},
   "outputs": [],
   "source": [
    "def relu_prime(X):\n",
    "    return (X > 0).astype(int)"
   ]
  },
  {
   "cell_type": "code",
   "execution_count": 12,
   "metadata": {},
   "outputs": [
    {
     "data": {
      "text/plain": [
       "[<matplotlib.lines.Line2D at 0x112ad0390>]"
      ]
     },
     "execution_count": 12,
     "metadata": {},
     "output_type": "execute_result"
    },
    {
     "data": {
      "image/png": "[encoded data removed]",
      "text/plain": [
       "<Figure size 432x288 with 1 Axes>"
      ]
     },
     "metadata": {
      "needs_background": "light"
     },
     "output_type": "display_data"
    }
   ],
   "source": [
    "X = np.linspace(-20,20)\n",
    "plt.plot(X,relu_prime(X))"
   ]
  },
  {
   "cell_type": "markdown",
   "metadata": {},
   "source": [
    "#### Calculate using vector product (dot product)"
   ]
  },
  {
   "cell_type": "markdown",
   "metadata": {},
   "source": [
    "\\begin{equation*}\n",
    "z_n^{[l]} = relu(w_1x_1 + w_2x_2 + w_3x_3 + ... + w_nx_n) = relu(W_n^lA^{[l-1]}) + B\n",
    "\\end{equation*}"
   ]
  },
  {
   "cell_type": "code",
   "execution_count": 13,
   "metadata": {},
   "outputs": [],
   "source": [
    "weights = np.array([[1,2,3,4]])   #1x4"
   ]
  },
  {
   "cell_type": "code",
   "execution_count": 14,
   "metadata": {},
   "outputs": [],
   "source": [
    "inputs = np.array([[1,2,3,4]]).T #4x1"
   ]
  },
  {
   "cell_type": "code",
   "execution_count": 15,
   "metadata": {},
   "outputs": [],
   "source": [
    "b = 1"
   ]
  },
  {
   "cell_type": "code",
   "execution_count": 16,
   "metadata": {},
   "outputs": [],
   "source": [
    "a1 = np.dot(weights, inputs) + b"
   ]
  },
  {
   "cell_type": "code",
   "execution_count": 17,
   "metadata": {},
   "outputs": [
    {
     "data": {
      "text/plain": [
       "array([[31]])"
      ]
     },
     "execution_count": 17,
     "metadata": {},
     "output_type": "execute_result"
    }
   ],
   "source": [
    "a1"
   ]
  },
  {
   "cell_type": "code",
   "execution_count": 18,
   "metadata": {},
   "outputs": [
    {
     "data": {
      "text/plain": [
       "array([[31]])"
      ]
     },
     "execution_count": 18,
     "metadata": {},
     "output_type": "execute_result"
    }
   ],
   "source": [
    "relu(a1)"
   ]
  },
  {
   "cell_type": "code",
   "execution_count": 19,
   "metadata": {},
   "outputs": [],
   "source": [
    "assert(relu(a1) == relu(1*1 + 2*2 + 3*3 + 4*4 + 1))"
   ]
  },
  {
   "cell_type": "markdown",
   "metadata": {},
   "source": [
    "## multi neuron layer (4 neurons, 3 inputs)"
   ]
  },
  {
   "cell_type": "markdown",
   "metadata": {},
   "source": [
    "\\begin{equation*}\n",
    "Z^{[l]} = relu(W^lZ^{[l-1]}) + B\n",
    "\\end{equation*}"
   ]
  },
  {
   "cell_type": "markdown",
   "metadata": {},
   "source": [
    "**initiate weights** (random initalization.... but this can be changed) setting weights to ALL ZEROS will prevent training...."
   ]
  },
  {
   "cell_type": "code",
   "execution_count": 20,
   "metadata": {},
   "outputs": [],
   "source": [
    "W = np.random.rand(4,3)"
   ]
  },
  {
   "cell_type": "code",
   "execution_count": 21,
   "metadata": {},
   "outputs": [
    {
     "data": {
      "text/plain": [
       "array([[0.05181866, 0.60719871, 0.10495422],\n",
       "       [0.76042275, 0.57390748, 0.72774804],\n",
       "       [0.4576625 , 0.27463537, 0.0537613 ],\n",
       "       [0.16706398, 0.33194475, 0.06382824]])"
      ]
     },
     "metadata": {},
     "output_type": "display_data"
    },
    {
     "data": {
      "text/plain": [
       "(4, 3)"
      ]
     },
     "metadata": {},
     "output_type": "display_data"
    }
   ],
   "source": [
    "display(W, W.shape)"
   ]
  },
  {
   "cell_type": "code",
   "execution_count": 22,
   "metadata": {},
   "outputs": [],
   "source": [
    "X = np.random.rand(1,3)"
   ]
  },
  {
   "cell_type": "code",
   "execution_count": 23,
   "metadata": {},
   "outputs": [
    {
     "data": {
      "text/plain": [
       "array([[0.34150469, 0.96356007, 0.6969006 ]])"
      ]
     },
     "metadata": {},
     "output_type": "display_data"
    },
    {
     "data": {
      "text/plain": [
       "(1, 3)"
      ]
     },
     "metadata": {},
     "output_type": "display_data"
    }
   ],
   "source": [
    "display(X, X.shape)"
   ]
  },
  {
   "cell_type": "code",
   "execution_count": 24,
   "metadata": {},
   "outputs": [
    {
     "data": {
      "text/plain": [
       "array([[0.94652045],\n",
       "       [0.44831137],\n",
       "       [0.38749516],\n",
       "       [0.94044058]])"
      ]
     },
     "execution_count": 24,
     "metadata": {},
     "output_type": "execute_result"
    }
   ],
   "source": [
    "B = np.random.rand(4,1)\n",
    "B"
   ]
  },
  {
   "cell_type": "code",
   "execution_count": 25,
   "metadata": {},
   "outputs": [
    {
     "data": {
      "text/plain": [
       "((4, 3), (4, 1), (1, 3))"
      ]
     },
     "execution_count": 25,
     "metadata": {},
     "output_type": "execute_result"
    }
   ],
   "source": [
    "W.shape, B.shape, X.shape"
   ]
  },
  {
   "cell_type": "code",
   "execution_count": 26,
   "metadata": {},
   "outputs": [],
   "source": [
    "A = np.dot(W,X.T) + B"
   ]
  },
  {
   "cell_type": "code",
   "execution_count": 27,
   "metadata": {},
   "outputs": [
    {
     "data": {
      "text/plain": [
       "array([[1.62243185],\n",
       "       [1.76816168],\n",
       "       [0.845883  ],\n",
       "       [1.36182436]])"
      ]
     },
     "metadata": {},
     "output_type": "display_data"
    },
    {
     "data": {
      "text/plain": [
       "(4, 1)"
      ]
     },
     "metadata": {},
     "output_type": "display_data"
    }
   ],
   "source": [
    "display(A, A.shape)"
   ]
  },
  {
   "cell_type": "code",
   "execution_count": 28,
   "metadata": {},
   "outputs": [],
   "source": [
    "Z = relu(A)"
   ]
  },
  {
   "cell_type": "code",
   "execution_count": 29,
   "metadata": {},
   "outputs": [
    {
     "data": {
      "text/plain": [
       "array([[1.62243185],\n",
       "       [1.76816168],\n",
       "       [0.845883  ],\n",
       "       [1.36182436]])"
      ]
     },
     "metadata": {},
     "output_type": "display_data"
    },
    {
     "data": {
      "text/plain": [
       "(4, 1)"
      ]
     },
     "metadata": {},
     "output_type": "display_data"
    }
   ],
   "source": [
    "display(Z, Z.shape)"
   ]
  },
  {
   "cell_type": "code",
   "execution_count": 30,
   "metadata": {},
   "outputs": [
    {
     "data": {
      "text/plain": [
       "True"
      ]
     },
     "execution_count": 30,
     "metadata": {},
     "output_type": "execute_result"
    }
   ],
   "source": [
    "(Z == [relu(a) for a in A]).all()"
   ]
  },
  {
   "cell_type": "markdown",
   "metadata": {},
   "source": [
    "## Backward propagation"
   ]
  },
  {
   "cell_type": "markdown",
   "metadata": {},
   "source": [
    "backward propagation is performed by calculating the loss from a sample with respect to the network parameters, W and B, and then taking the gradient of the Loss function and adjusting the parameters toward a global minimum using a gradient-based optimization function(SGD, RMSPROP, ADAM, RADAM)."
   ]
  },
  {
   "cell_type": "markdown",
   "metadata": {},
   "source": [
    "### Loss Function and Cost Function"
   ]
  },
  {
   "cell_type": "markdown",
   "metadata": {},
   "source": [
    "loss vs cost: a loss function is a measure of the error between a single training sample where as a cost function is more general such as a measure of the sum of loss or average loss"
   ]
  },
  {
   "cell_type": "markdown",
   "metadata": {},
   "source": [
    "When choosing a loss function you want to be certain that the adjustment of your loss function represents what objective you are trying to achieve and that it maps onto a high-dimensional surface that is easily navigable by gradient-based optimization algorithms.\n",
    "\n",
    "In the case of ANNs when performing classification we can think of the ouputs as the probability that the network belongs to a particular class, therefore it is outputting its own estimate of the sample distribution. Therefore, under the maximum likelihood framework, we will use cross-entropy loss, $\\ell$ which measures the difference between two distributions and the cost, $J$, will be the average loss"
   ]
  },
  {
   "cell_type": "markdown",
   "metadata": {},
   "source": [
    "\\begin{equation*}\n",
    "\\ell_i = -(y_i*log(\\hat{y_i}) + (1-y_i)*log(1-\\hat{y_i}))\n",
    "\\end{equation*}"
   ]
  },
  {
   "cell_type": "markdown",
   "metadata": {},
   "source": [
    "\\begin{equation*}\n",
    "J = \\frac{1}{N}\\sum_i^N{\\ell_i} \\\\\n",
    "J = -\\frac{1}{N}\\sum_i^N{y_i*log(\\hat{y_i}) + (1-y_i)*log(1-\\hat{y_i})}\n",
    "\\end{equation*}"
   ]
  },
  {
   "cell_type": "markdown",
   "metadata": {},
   "source": [
    "see [here](https://towardsdatascience.com/understanding-binary-cross-entropy-log-loss-a-visual-explanation-a3ac6025181a) for more info"
   ]
  },
  {
   "cell_type": "code",
   "execution_count": 31,
   "metadata": {},
   "outputs": [],
   "source": [
    "def calculate_cost(Y_pred,Y_true):\n",
    "    N = Y_pred.shape[0]\n",
    "    return -(1/N)*np.sum(Y_true*np.log(Y_pred) + (1-Y_true)*np.log(1-Y_pred))"
   ]
  },
  {
   "cell_type": "markdown",
   "metadata": {},
   "source": [
    "#### random cost"
   ]
  },
  {
   "cell_type": "code",
   "execution_count": 32,
   "metadata": {},
   "outputs": [
    {
     "data": {
      "text/plain": [
       "(array([[0],\n",
       "        [0],\n",
       "        [0]]), array([[0.15481054],\n",
       "        [0.20694997],\n",
       "        [0.71984796]]))"
      ]
     },
     "execution_count": 32,
     "metadata": {},
     "output_type": "execute_result"
    }
   ],
   "source": [
    "Y_true = np.random.randint(0,2,(3,1))\n",
    "Y_pred = np.random.rand(3,1)\n",
    "Y_true, Y_pred"
   ]
  },
  {
   "cell_type": "code",
   "execution_count": 33,
   "metadata": {},
   "outputs": [
    {
     "data": {
      "text/plain": [
       "0.5574954207255125"
      ]
     },
     "execution_count": 33,
     "metadata": {},
     "output_type": "execute_result"
    }
   ],
   "source": [
    "calculate_cost(Y_pred, Y_true)"
   ]
  },
  {
   "cell_type": "markdown",
   "metadata": {},
   "source": [
    "#### check limits of cost"
   ]
  },
  {
   "cell_type": "markdown",
   "metadata": {},
   "source": [
    "##### Y_actual = 1"
   ]
  },
  {
   "cell_type": "code",
   "execution_count": 34,
   "metadata": {},
   "outputs": [
    {
     "data": {
      "text/plain": [
       "Text(0, 0.5, 'cost')"
      ]
     },
     "execution_count": 34,
     "metadata": {},
     "output_type": "execute_result"
    },
    {
     "data": {
      "image/png": "[encoded data removed]",
      "text/plain": [
       "<Figure size 432x288 with 1 Axes>"
      ]
     },
     "metadata": {
      "needs_background": "light"
     },
     "output_type": "display_data"
    }
   ],
   "source": [
    "Y_pred = np.linspace(0.01,1,100,endpoint=False)\n",
    "Y_true = np.ones(100)\n",
    "costs = [calculate_cost(np.array(y_pred).reshape((1,1)), np.array(y_true).reshape((1,1))) for (y_pred, y_true) in zip(Y_pred,Y_true)]\n",
    "plt.plot(Y_pred, costs)\n",
    "plt.xlabel('Y_pred')\n",
    "plt.ylabel('cost')"
   ]
  },
  {
   "cell_type": "markdown",
   "metadata": {},
   "source": [
    "##### Y_actual = 0"
   ]
  },
  {
   "cell_type": "code",
   "execution_count": 35,
   "metadata": {},
   "outputs": [
    {
     "data": {
      "text/plain": [
       "Text(0, 0.5, 'cost')"
      ]
     },
     "execution_count": 35,
     "metadata": {},
     "output_type": "execute_result"
    },
    {
     "data": {
      "image/png": "[encoded data removed]",
      "text/plain": [
       "<Figure size 432x288 with 1 Axes>"
      ]
     },
     "metadata": {
      "needs_background": "light"
     },
     "output_type": "display_data"
    }
   ],
   "source": [
    "Y_pred = np.linspace(0.01,1,100,endpoint=False)\n",
    "Y_true = np.zeros(100)\n",
    "costs = [calculate_cost(np.array(y_pred).reshape((1,1)), np.array(y_true).reshape((1,1))) for (y_pred, y_true) in zip(Y_pred,Y_true)]\n",
    "plt.plot(Y_pred, costs)\n",
    "plt.xlabel('Y_pred')\n",
    "plt.ylabel('cost')"
   ]
  },
  {
   "cell_type": "markdown",
   "metadata": {},
   "source": [
    "it works!"
   ]
  },
  {
   "cell_type": "markdown",
   "metadata": {},
   "source": [
    "## Gradients of loss function"
   ]
  },
  {
   "cell_type": "markdown",
   "metadata": {},
   "source": [
    "### Derivative of Cross Entropy Loss"
   ]
  },
  {
   "cell_type": "markdown",
   "metadata": {},
   "source": [
    "\\begin{equation*}\n",
    "J = \\frac{1}{N}\\sum_{i=0}^N{\\ell_i} \\\\\n",
    "\\ell_i = y_i*log(\\hat{y_i}) + (1-y_i)*log(1-\\hat{y_i})\n",
    "\\end{equation*}"
   ]
  },
  {
   "cell_type": "markdown",
   "metadata": {},
   "source": [
    "# putting it all together"
   ]
  },
  {
   "cell_type": "code",
   "execution_count": 36,
   "metadata": {},
   "outputs": [],
   "source": [
    "import numpy as np\n",
    "\n",
    "class ANN:\n",
    "    class Layer:\n",
    "        def __init__(self, shape:tuple, activation='relu'):\n",
    "            self.shape = shape\n",
    "            self.W = np.random.rand(*self.shape)\n",
    "            self.B = np.zeros((self.shape[0],1))\n",
    "            self.activation = self.relu if activation == 'relu' else self.sigmoid\n",
    "            self.activation_prime = self.relu_prime if activation == 'relu' else self.sigmoid_prime\n",
    "            self.A = None\n",
    "            self.Z = None\n",
    "\n",
    "        def relu(self, Z):\n",
    "            return Z*(Z > 0) #element-wise matrix multiplication by boolean value of whether each element in X is > 0 (a.k.a relu)\n",
    "        \n",
    "        def relu_prime(self, Z):\n",
    "            return (Z>0).astype(int)\n",
    "        \n",
    "        def sigmoid(self, Z):\n",
    "            return 1/(1 + np.exp(-Z))\n",
    "        \n",
    "        def sigmoid_prime(self, Z):\n",
    "            return self.sigmoid(Z) * (1 - self.sigmoid(Z))\n",
    "           \n",
    "        def activate(self, a_prev):\n",
    "            self.Z = np.dot(self.W, a_prev) + self.B\n",
    "            self.A = self.activation(self.Z)\n",
    "            return self.A\n",
    "        \n",
    "        def activate_backwards(self, Z):\n",
    "            return self.activation_prime(Z)\n",
    "        \n",
    "        def update(self, dW, dB, learning_rate):\n",
    "            self.W -= learning_rate * dW\n",
    "            self.B -= learning_rate * dB\n",
    "            \n",
    "    def __init__(self, input_shape=None, n_layers=1, layer_dims=None, learning_rate=0.01, n_classes = 2):\n",
    "        self.input_shape = (3,1) if input_shape is None else input_shape\n",
    "        self.learning_rate = learning_rate\n",
    "\n",
    "        #input layer\n",
    "        self.layers = [self.Layer((np.random.randint(1,5), self.input_shape[0]))]\n",
    "        #hidden layers\n",
    "        for l in range(n_layers):\n",
    "            n_nodes = np.random.randint(2,5)\n",
    "            n_prev_nodes = self.layers[l].shape[0]\n",
    "            layer_shape = (n_nodes, n_prev_nodes)\n",
    "            self.layers.append(self.Layer(shape=layer_shape))\n",
    "        #output layer\n",
    "        n_nodes = n_classes if n_classes > 2 else 1\n",
    "        n_prev_nodes = self.layers[-1].shape[0]\n",
    "        self.output_shape = (n_nodes, n_prev_nodes)\n",
    "        self.layers.append(self.Layer(shape=self.output_shape, activation='sigmoid'))\n",
    "            \n",
    "    def calculate_cost(self, Y_pred,Y_true):\n",
    "        N = Y_pred.shape[0]\n",
    "        return -(1/N)*np.sum(Y_true*np.log(Y_pred) + (1-Y_true)*np.log(1-Y_pred))\n",
    "    \n",
    "    def forward_pass(self, X):\n",
    "        A = X.reshape(self.input_shape)\n",
    "        for layer in self.layers:\n",
    "            A = layer.activate(A)\n",
    "        return A\n",
    "    \n",
    "    def backward_pass(self, Y_pred, Y_true, learning_rate=None):\n",
    "        if learning_rate is None:\n",
    "            learning_rate = self.learning_rate\n",
    "        cost = self.calculate_cost(Y_pred, Y_true)\n",
    "        dA = (Y_true/Y_pred) + ((1-Y_true)/(1-Y_pred))\n",
    "        backward_layers = reversed(list(enumerate(self.layers)))\n",
    "        for l_prev, layer in backward_layers:\n",
    "            M = self.layers[l_prev].A.shape[0]\n",
    "            dZ = layer.activate_backwards(layer.Z)\n",
    "            dW = np.dot(self.layers[l_prev].A.T, dA*dZ)   \n",
    "            dB = np.sum(dZ, axis=1, keepdims=True)/M\n",
    "            layer.update(dW, dB, learning_rate)\n",
    "            dA = np.dot(layer.W.T, dA*dZ)\n",
    "        return cost\n",
    "        \n",
    "    def fit(self, X_train, y_train, num_iterations = np.inf, learning_rate=None):\n",
    "        i = 0\n",
    "        for (x,y_true) in zip(X_train, y_train):\n",
    "            #TODO: implement batch vectorization\n",
    "            #TODO: implement batch gradient descent\n",
    "            Y_pred = self.forward_pass(x)\n",
    "            cost = self.backward_pass(Y_pred, y_true)\n",
    "            i += 1\n",
    "            if i % 100 == 0:\n",
    "                print(f'iteration {i} cost:{cost}')\n",
    "            if i == num_iterations:\n",
    "                return cost\n",
    "        return cost\n",
    "        \n",
    "    "
   ]
  },
  {
   "cell_type": "code",
   "execution_count": null,
   "metadata": {},
   "outputs": [],
   "source": []
  },
  {
   "cell_type": "markdown",
   "metadata": {},
   "source": [
    "# Testing it out"
   ]
  },
  {
   "cell_type": "markdown",
   "metadata": {},
   "source": [
    "## Initialize network"
   ]
  },
  {
   "cell_type": "code",
   "execution_count": 37,
   "metadata": {},
   "outputs": [],
   "source": [
    "ann = ANN(input_shape=(3,1), n_layers = 3)"
   ]
  },
  {
   "cell_type": "code",
   "execution_count": 38,
   "metadata": {},
   "outputs": [
    {
     "name": "stdout",
     "output_type": "stream",
     "text": [
      "0 (1, 3) (4, 1)\n",
      "True\n",
      "1 (4, 1) (3, 4)\n",
      "True\n",
      "2 (3, 4) (2, 3)\n",
      "True\n",
      "3 (2, 3) (1, 2)\n",
      "True\n"
     ]
    }
   ],
   "source": [
    "for i, layer in enumerate(ann.layers[1:]):\n",
    "    prev_layer = ann.layers[i]\n",
    "    print(i, prev_layer.shape, layer.shape)\n",
    "    print(layer.shape[1] == prev_layer.shape[0])"
   ]
  },
  {
   "cell_type": "markdown",
   "metadata": {},
   "source": [
    "### Create single random sample vector and random binary label"
   ]
  },
  {
   "cell_type": "code",
   "execution_count": 39,
   "metadata": {},
   "outputs": [
    {
     "data": {
      "text/plain": [
       "array([[0.7272164 , 0.90921327, 0.9852942 ]])"
      ]
     },
     "execution_count": 39,
     "metadata": {},
     "output_type": "execute_result"
    }
   ],
   "source": [
    "X = np.random.rand(1,3)\n",
    "X"
   ]
  },
  {
   "cell_type": "code",
   "execution_count": 40,
   "metadata": {},
   "outputs": [
    {
     "data": {
      "text/plain": [
       "array([0])"
      ]
     },
     "execution_count": 40,
     "metadata": {},
     "output_type": "execute_result"
    }
   ],
   "source": [
    "Y_true = np.random.randint(1, size=(1))\n",
    "Y_true"
   ]
  },
  {
   "cell_type": "markdown",
   "metadata": {},
   "source": [
    "## forward pass "
   ]
  },
  {
   "cell_type": "code",
   "execution_count": 41,
   "metadata": {},
   "outputs": [
    {
     "data": {
      "text/plain": [
       "array([[0.9355667]])"
      ]
     },
     "execution_count": 41,
     "metadata": {},
     "output_type": "execute_result"
    }
   ],
   "source": [
    "Y_pred = ann.forward_pass(X)\n",
    "Y_pred"
   ]
  },
  {
   "cell_type": "code",
   "execution_count": 42,
   "metadata": {},
   "outputs": [
    {
     "data": {
      "text/plain": [
       "(1, 1)"
      ]
     },
     "execution_count": 42,
     "metadata": {},
     "output_type": "execute_result"
    }
   ],
   "source": [
    "Y_pred.shape"
   ]
  },
  {
   "cell_type": "code",
   "execution_count": 43,
   "metadata": {},
   "outputs": [
    {
     "data": {
      "text/plain": [
       "2.7421246255346357"
      ]
     },
     "execution_count": 43,
     "metadata": {},
     "output_type": "execute_result"
    }
   ],
   "source": [
    "ann.backward_pass(Y_pred, Y_true)"
   ]
  },
  {
   "cell_type": "code",
   "execution_count": 79,
   "metadata": {},
   "outputs": [
    {
     "data": {
      "text/plain": [
       "2.7421246255346357"
      ]
     },
     "execution_count": 79,
     "metadata": {},
     "output_type": "execute_result"
    }
   ],
   "source": [
    "ann.backward_pass(Y_pred, Y_true)"
   ]
  },
  {
   "cell_type": "code",
   "execution_count": 80,
   "metadata": {},
   "outputs": [
    {
     "ename": "SyntaxError",
     "evalue": "invalid syntax (<ipython-input-80-ea4bab947e3e>, line 6)",
     "output_type": "error",
     "traceback": [
      "\u001b[0;36m  File \u001b[0;32m\"<ipython-input-80-ea4bab947e3e>\"\u001b[0;36m, line \u001b[0;32m6\u001b[0m\n\u001b[0;31m    ann.fit(X_train, y_train, verbosity=0e)\u001b[0m\n\u001b[0m                                         ^\u001b[0m\n\u001b[0;31mSyntaxError\u001b[0m\u001b[0;31m:\u001b[0m invalid syntax\n"
     ]
    }
   ],
   "source": [
    "input_shape = (10,10)\n",
    "n_samples = 1000\n",
    "ann = ANN(input_shape=input_shape, n_layers=2)\n",
    "X_train = np.random.rand(n_samples, *input_shape)\n",
    "y_train = np.random.randint(1, size=(n_samples,1,1))\n",
    "ann.fit(X_train, y_train, verbosity=0e)"
   ]
  },
  {
   "cell_type": "code",
   "execution_count": 55,
   "metadata": {},
   "outputs": [
    {
     "ename": "AttributeError",
     "evalue": "'numpy.ndarray' object has no attribute 'value_counts'",
     "output_type": "error",
     "traceback": [
      "\u001b[0;31m---------------------------------------------------------------------------\u001b[0m",
      "\u001b[0;31mAttributeError\u001b[0m                            Traceback (most recent call last)",
      "\u001b[0;32m<ipython-input-55-e20da9714e8d>\u001b[0m in \u001b[0;36m<module>\u001b[0;34m\u001b[0m\n\u001b[0;32m----> 1\u001b[0;31m \u001b[0my_train\u001b[0m\u001b[0;34m.\u001b[0m\u001b[0mvalue_counts\u001b[0m\u001b[0;34m(\u001b[0m\u001b[0;34m)\u001b[0m\u001b[0;34m\u001b[0m\u001b[0;34m\u001b[0m\u001b[0m\n\u001b[0m",
      "\u001b[0;31mAttributeError\u001b[0m: 'numpy.ndarray' object has no attribute 'value_counts'"
     ]
    }
   ],
   "source": [
    "y_train"
   ]
  },
  {
   "cell_type": "code",
   "execution_count": null,
   "metadata": {},
   "outputs": [],
   "source": []
  }
 ],
 "metadata": {
  "kernelspec": {
   "display_name": "Python 3",
   "language": "python",
   "name": "python3"
  },
  "language_info": {
   "codemirror_mode": {
    "name": "ipython",
    "version": 3
   },
   "file_extension": ".py",
   "mimetype": "text/x-python",
   "name": "python",
   "nbconvert_exporter": "python",
   "pygments_lexer": "ipython3",
   "version": "3.7.4"
  }
 },
 "nbformat": 4,
 "nbformat_minor": 4
}
